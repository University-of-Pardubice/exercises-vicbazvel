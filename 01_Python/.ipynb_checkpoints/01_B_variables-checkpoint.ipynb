{
 "cells": [
  {
   "cell_type": "markdown",
   "id": "743f0431-3fd6-45fa-b723-9e67b296e559",
   "metadata": {},
   "source": [
    "# Data types\n",
    "\n",
    "* Python is a **strongly typed** language, you cannot add incompatible types (e.g. number + string without conversion).\n",
    "* Python is also **dynamically typed**. The type of a variable is determined by the value when it is first assigned, type checking is done at runtime, and explicit overrides can be used.\n",
    "\n",
    "```\n",
    "    x = \"123\"\n",
    "    y = int(x) \n",
    "```\n",
    "\n",
    "* Everything is an object - even numbers, functions, types are objects of a certain class.\n",
    "\n",
    "The basic built-in types are as follows:\n",
    "* Numeric types:\n",
    "   * int - integers, not limited to a fixed number of bits, can work with very large numbers: x = 451654872154787894564156475645564654\n",
    "   * float - decimal numbers, supports special values: inf, -inf, NaN (Not a Number)\n",
    "   * complex - complex numbers, e.g. 2 + 3i\n",
    "* Strings:\n",
    "   * str - strings are stored in unicode. Be careful if you work with texts with national characters, sometimes they may not have the correct code page.\n",
    "   * bytes - binary data, e.g. b'\\x68\\x65\\x6c\\x6c\\x6f' (represents the text \"hello\")\n",
    "* Logical values:\n",
    "   * bool - values True and False\n",
    "   * None - empty value, in other languages maybe null\n",
    "* Sequences and collections:\n",
    "   * list\n",
    "   * tuple (immutable)\n",
    "   * set\n",
    "   * dict – dictionary (key-value)\n",
    "\n",
    "Here are some examples of entering values."
   ]
  },
  {
   "cell_type": "code",
   "execution_count": null,
   "id": "a87a39f2",
   "metadata": {},
   "outputs": [],
   "source": [
    "int1 = 1\n",
    "int2 = int1 + 1\n",
    "int3 = 1_000_000\n",
    "float1 = 1.0\n",
    "float2 = float1 + 1\n",
    "string1='0'"
   ]
  },
  {
   "cell_type": "markdown",
   "id": "a643b621",
   "metadata": {},
   "source": [
    "Because the type of a variable is determined dynamically when it is first assigned, it can sometimes be useful to find out what type the variable actually is. The **type** statement is used for this purpose."
   ]
  },
  {
   "cell_type": "code",
   "execution_count": null,
   "id": "df2b8a31-d676-4e03-8aa8-edb2f49bdd0e",
   "metadata": {
    "tags": []
   },
   "outputs": [],
   "source": [
    "print (type(int1))\n",
    "print (type(int2))\n",
    "print (type(float1))\n",
    "print (type(float2))\n",
    "print (type(string1))"
   ]
  },
  {
   "cell_type": "markdown",
   "id": "417a2b57",
   "metadata": {},
   "source": [
    "You can also use the **isinstance** function to test if the variable is of a certain type."
   ]
  },
  {
   "cell_type": "code",
   "execution_count": null,
   "id": "336f7411",
   "metadata": {},
   "outputs": [],
   "source": [
    "print (isinstance(int2, int))\n",
    "print (isinstance(float1, str))"
   ]
  },
  {
   "cell_type": "markdown",
   "id": "2ecf1f60",
   "metadata": {},
   "source": [
    "The type of the variable is determined according to the specified value according to the rules. Sometimes, to avoid errors in the program, it may be appropriate to define the data type explicitly.\n",
    "\n",
    "Or it may want to override the input value."
   ]
  },
  {
   "cell_type": "code",
   "execution_count": null,
   "id": "df522183-17f7-4e94-b067-aac115073011",
   "metadata": {
    "tags": []
   },
   "outputs": [],
   "source": [
    "int3 = int (1.0)\n",
    "float3 = float(1)\n",
    "string2 = str (int3)\n",
    "print (type(int3))\n",
    "print (type(float2))\n",
    "print (type(string2))"
   ]
  },
  {
   "cell_type": "markdown",
   "id": "fd794335",
   "metadata": {},
   "source": [
    "**For immutable data types, a copy of the data is made on assignment.**\n",
    "* bool\n",
    "* int\n",
    "* float\n",
    "* complex\n",
    "* str\n",
    "* bytes\n",
    "* tupple\n",
    "* None\n"
   ]
  },
  {
   "cell_type": "code",
   "execution_count": null,
   "id": "e8b5ee6e-b24a-408d-a463-131821a05747",
   "metadata": {
    "tags": []
   },
   "outputs": [],
   "source": [
    "x = 1\n",
    "y = x\n",
    "x = 2\n",
    "print (\"x:\", x)\n",
    "print (\"y:\", y)"
   ]
  },
  {
   "cell_type": "markdown",
   "id": "55767b0b-2bf9-4914-a9a1-1e5f1dac403d",
   "metadata": {},
   "source": [
    "## Integers\n",
    "Very often we will be working with integers, so let's introduce the basic operations.\n",
    "\n",
    "When converting to integer, Python truncates, not rounds."
   ]
  },
  {
   "cell_type": "code",
   "execution_count": null,
   "id": "64ede1b2",
   "metadata": {},
   "outputs": [],
   "source": [
    "print (int(3.9))\n",
    "print (int(-2.9))"
   ]
  },
  {
   "cell_type": "markdown",
   "id": "20c29122",
   "metadata": {},
   "source": [
    "If we want to round, we have to use the round function. The round() function uses banker's rounding - to the nearest even number."
   ]
  },
  {
   "cell_type": "code",
   "execution_count": null,
   "id": "c0127df3",
   "metadata": {},
   "outputs": [],
   "source": [
    "print (round(6.5))        # 6\n",
    "print (round(7.5))        # 8\n",
    "print (round(3.14, 1))    # 3.1 (to 1 decimal place)\n",
    "print (round(2737, -2))   # 2700 (in hundreds)"
   ]
  },
  {
   "cell_type": "markdown",
   "id": "8083781b",
   "metadata": {},
   "source": [
    "The standard operators +, -, *, / are used to work with integers and then the following\n",
    "\n",
    "* // – integer division, for positive numbers it \"truncates\" the decimal part, for negative numbers it returns a lower value (e.g. -7 // 2 == -4), if the member is of float type, the result is also float\n",
    "* ** – squared\n",
    "* % – modulo (remainder after division)"
   ]
  },
  {
   "cell_type": "code",
   "execution_count": null,
   "id": "4610a861",
   "metadata": {},
   "outputs": [],
   "source": [
    "print(7 // 2)   # 3\n",
    "print(-7 // 2)  # -4\n",
    "print(2 ** 3)   # 8\n",
    "print(7 % 3)    # 1"
   ]
  },
  {
   "cell_type": "markdown",
   "id": "1970cbf1",
   "metadata": {},
   "source": [
    "Sometimes you will want to convert between number systems."
   ]
  },
  {
   "cell_type": "code",
   "execution_count": null,
   "id": "9fca99f8-aa73-4df5-8dd8-f7c180a0bd27",
   "metadata": {
    "tags": []
   },
   "outputs": [],
   "source": [
    "print(int(\"FF\", base=16))     # 255\n",
    "print(int(\"0b10010\", base=2)) # 18\n",
    "\n",
    "print(bin(99))   # '0b1100011'\n",
    "print(hex(99))   # '0x63'\n",
    "print(oct(99))   # '0o143'"
   ]
  },
  {
   "cell_type": "markdown",
   "id": "8c709dd2-23a2-45fe-b08a-da2585991ce8",
   "metadata": {},
   "source": [
    "## Strings\n",
    "\n",
    "* Python uses Unicode (UTF-8) for text.\n",
    "* One character can be stored in 1-3 bytes (sometimes even 4).\n",
    "* The program source file (program.py) must be saved in UTF-8.\n",
    "* Strings can be written using quotation marks:\n",
    "   * double \"...\"\n",
    "   * or simple '...'"
   ]
  },
  {
   "cell_type": "markdown",
   "id": "335282c9",
   "metadata": {},
   "source": [
    "The string can be split into variables."
   ]
  },
  {
   "cell_type": "code",
   "execution_count": null,
   "id": "444dff42",
   "metadata": {},
   "outputs": [],
   "source": [
    "s = 'cool'\n",
    "a, b, c, d = 'cool'   # splits individual characters into variables\n",
    "print (d)"
   ]
  },
  {
   "cell_type": "markdown",
   "id": "96996fac",
   "metadata": {},
   "source": [
    "Basic string operations include finding the length of a string, accessing the nth character, concatenating strings, repeating characters.\n"
   ]
  },
  {
   "cell_type": "code",
   "execution_count": null,
   "id": "3e450f1a",
   "metadata": {},
   "outputs": [],
   "source": [
    "string_length = len(s) \n",
    "first_char = s[0]           \n",
    "string_joing = 'abc' + 'def'     \n",
    "multiple_a = 'a' * 4             \n",
    "print (string_length)\n",
    "print (first_char)\n",
    "print (string_joing)\n",
    "print (multiple_a)"
   ]
  },
  {
   "cell_type": "markdown",
   "id": "dca1ec72",
   "metadata": {},
   "source": [
    "Sometimes you will want the string to contain multiple lines. The special character **\\n** is used to separate them."
   ]
  },
  {
   "cell_type": "code",
   "execution_count": null,
   "id": "fd464a26-205d-4dac-bd7e-b9d7031db6c2",
   "metadata": {
    "tags": []
   },
   "outputs": [],
   "source": [
    "multiline='first\\nsecond\\nthird\\n'\n",
    "print (multiline)"
   ]
  },
  {
   "cell_type": "markdown",
   "id": "fec4920c",
   "metadata": {},
   "source": [
    "If you want to use a sequence of characters like \\n, \\t, ... in a string so that they don't intersperse, you can use the **repr** function. Or use the double \\\\\\\\"
   ]
  },
  {
   "cell_type": "code",
   "execution_count": null,
   "id": "1941b8cc",
   "metadata": {},
   "outputs": [],
   "source": [
    "print (repr(\"string\\n\"))\n",
    "print (\"string\\\\n\")"
   ]
  },
  {
   "cell_type": "markdown",
   "id": "6aa8b9bb-58bf-4f31-8c39-30ff1a976427",
   "metadata": {
    "tags": []
   },
   "source": [
    "### String formatting\n",
    "When printing variables, you will want to influence their form."
   ]
  },
  {
   "cell_type": "markdown",
   "id": "06cf5e1e",
   "metadata": {},
   "source": [
    "The older way of formatting uses the .format() method, which takes a format string as the first input, followed by the output variables. \n",
    "\n",
    "* In the place where the variable is to be written out, the variable order is given in {}, numbered from 0. \n",
    "* If the order is clear, it can be omitted.\n",
    "* Variables can also be named."
   ]
  },
  {
   "cell_type": "code",
   "execution_count": null,
   "id": "4fadc48d",
   "metadata": {},
   "outputs": [],
   "source": [
    "a = [1, 2, 3]\n",
    "b = 'xxx'\n",
    "c = 1.222342\n",
    "\n",
    "print(\"b {0} a {1[0]}\".format(b, a))\n",
    "print(\"b {} a[0] {}\".format(b, a[0]))\n",
    "print(\"b {b} a {a}\".format(b=b, a=a[0]))"
   ]
  },
  {
   "cell_type": "markdown",
   "id": "369453a2",
   "metadata": {},
   "source": [
    "Alignment and string length can be specified for a nicer output."
   ]
  },
  {
   "cell_type": "code",
   "execution_count": null,
   "id": "5ff9ccf5",
   "metadata": {},
   "outputs": [],
   "source": [
    "print ('{:<30}'.format('left aligned'))             \n",
    "print ('{:>30}'.format('right aligned'))            \n",
    "print ('{:^30}'.format('centered'))                 \n",
    "print ('{:*^30}'.format('centered'))                "
   ]
  },
  {
   "cell_type": "markdown",
   "id": "412df7e8",
   "metadata": {},
   "source": [
    "When printing numbers, it is a good idea to define their format.\n",
    "* Data type (**f**loat, **d**ecimal)\n",
    "* Number of numbers before and after the decimal point\n",
    "* Separator of thousands"
   ]
  },
  {
   "cell_type": "code",
   "execution_count": null,
   "id": "abe92889",
   "metadata": {},
   "outputs": [],
   "source": [
    "print ('{0:.1f}'.format(c))                          \n",
    "print ('{0:03d}'.format(10))\n",
    "print ('{0:,}'.format(123456789))"
   ]
  },
  {
   "cell_type": "markdown",
   "id": "d861ff6c",
   "metadata": {},
   "source": [
    "For clearer formatting, a newer, clearer method is used: **f-string**. Before the string is f and inside the string we can use variables, but also functions, methods, etc.\n",
    "\n",
    "\n",
    "* f'...' - inside we can directly use variables {b}, {c}\n",
    "* str.format() - suitable for more complex formatting or reuse"
   ]
  },
  {
   "cell_type": "code",
   "execution_count": null,
   "id": "6d811af9",
   "metadata": {},
   "outputs": [],
   "source": [
    "print (f'Value of b is {b}, value of c is {c}')"
   ]
  },
  {
   "cell_type": "code",
   "execution_count": null,
   "id": "95deb34d",
   "metadata": {},
   "outputs": [],
   "source": [
    "text = 'Python'\n",
    "print(f'{text:>10}')  # right: '    Python'\n",
    "print(f'{text:^10}')  # in the middle: '  Python  '\n",
    "print(f'{text:*^10}') # centre with stars: '**Python**'"
   ]
  },
  {
   "cell_type": "code",
   "execution_count": null,
   "id": "8921d102",
   "metadata": {},
   "outputs": [],
   "source": [
    "x = 42\n",
    "print(f'{x:05d}')   # padded with zeros: 00042\n",
    "print(f'{x:,}')     # separation of thousands by a comma: 42"
   ]
  },
  {
   "cell_type": "code",
   "execution_count": null,
   "id": "21d3d035",
   "metadata": {},
   "outputs": [],
   "source": [
    "y = 12345.6789\n",
    "print(f'{y:.2e}')   # 1.23e+04"
   ]
  },
  {
   "cell_type": "code",
   "execution_count": null,
   "id": "083d1cb9",
   "metadata": {},
   "outputs": [],
   "source": [
    "a = 5\n",
    "b = 3\n",
    "print(f'{a} + {b} = {a+b}')  # 5 + 3 = 8"
   ]
  },
  {
   "cell_type": "markdown",
   "id": "de243e17",
   "metadata": {},
   "source": [
    "When printing multiple variables, you can change the separator instead of the space. This can be useful, for example, when creating text files."
   ]
  },
  {
   "cell_type": "code",
   "execution_count": null,
   "id": "3376e05e-1c51-4b9a-b7b0-eabc3b4ba0b4",
   "metadata": {
    "tags": []
   },
   "outputs": [],
   "source": [
    "print (\"A\", \"B\", \"C\", sep=\"|\")"
   ]
  },
  {
   "cell_type": "markdown",
   "id": "535b95f2",
   "metadata": {},
   "source": [
    "It is also possible to redefine the character to be written at the end."
   ]
  },
  {
   "cell_type": "code",
   "execution_count": null,
   "id": "e040f1eb-6721-4bcc-9fcb-edecddf051bf",
   "metadata": {
    "tags": []
   },
   "outputs": [],
   "source": [
    "print (\"A\", end=\",\")              # is printed at the end of the command,\n",
    "print (\"B\")                       # at the end of the command \\n is printed by default, new line"
   ]
  },
  {
   "cell_type": "markdown",
   "id": "df0f5131",
   "metadata": {},
   "source": [
    "### Methods for string manipulation\n",
    "The str class has many methods for working with strings."
   ]
  },
  {
   "cell_type": "markdown",
   "id": "5f0bd7ad",
   "metadata": {},
   "source": [
    "It is often necessary to split a string into substrings according to some separator. The splitlines method returns a list of strings."
   ]
  },
  {
   "cell_type": "code",
   "execution_count": null,
   "id": "a927b1b4",
   "metadata": {},
   "outputs": [],
   "source": [
    "s = ''' line1\n",
    "line2\n",
    "line3'''\n",
    "print (s.splitlines())            "
   ]
  },
  {
   "cell_type": "code",
   "execution_count": null,
   "id": "f2a63ac7",
   "metadata": {},
   "outputs": [],
   "source": [
    "# splitting and joining string\n",
    "query='password=Secret&login=user00'\n",
    "params_list=query.split('&')   \n",
    "string5=\" \".join(params_list)\n",
    "print (string5)"
   ]
  },
  {
   "cell_type": "markdown",
   "id": "60c916a4",
   "metadata": {},
   "source": [
    "Working with upper and lower case is important."
   ]
  },
  {
   "cell_type": "code",
   "execution_count": null,
   "id": "3d21888d",
   "metadata": {},
   "outputs": [],
   "source": [
    "string = \"Hello world\"\n",
    "print (string.lower())                 \n",
    "print (string.upper())\n",
    "print (string.isupper())"
   ]
  },
  {
   "cell_type": "markdown",
   "id": "ed8f64ae",
   "metadata": {},
   "source": [
    "Sometimes specific characters need to be counted."
   ]
  },
  {
   "cell_type": "code",
   "execution_count": null,
   "id": "a717fd17",
   "metadata": {},
   "outputs": [],
   "source": [
    "print (string.lower().count('l'))"
   ]
  },
  {
   "cell_type": "markdown",
   "id": "c2901182",
   "metadata": {},
   "source": [
    "Ověření, zda v řetězci je nějaký substring."
   ]
  },
  {
   "cell_type": "code",
   "execution_count": null,
   "id": "38654133",
   "metadata": {},
   "outputs": [],
   "source": [
    "print (\"he\" in string)                 # returns True, False, is faster than find\n",
    "print (string.index('w'))              # position of the first occurrence, otherwise returns an exception\n",
    "print (string.find('substr'))          # position of first occurrence\n",
    "print (string.find('wo'))              # position of first occurrence"
   ]
  },
  {
   "cell_type": "markdown",
   "id": "3493658c",
   "metadata": {},
   "source": [
    "Sometimes you need to replace or delete something."
   ]
  },
  {
   "cell_type": "code",
   "execution_count": null,
   "id": "6ede8cb1-03d8-4fd8-b14c-1efe6754a326",
   "metadata": {
    "tags": []
   },
   "outputs": [],
   "source": [
    "print (string.replace('world','universe', 3)) # string replacement, how many times is optional\n",
    "print (string.strip())                        # remove space(characters) at the beginning and end of the string"
   ]
  },
  {
   "cell_type": "markdown",
   "id": "a9854d10",
   "metadata": {},
   "source": [
    "Check if the string can be converted to a number."
   ]
  },
  {
   "cell_type": "code",
   "execution_count": null,
   "id": "ff380ac1",
   "metadata": {},
   "outputs": [],
   "source": [
    "number=\"5684\"\n",
    "print (number.isdecimal())\n",
    "print (string.isdecimal())"
   ]
  },
  {
   "cell_type": "markdown",
   "id": "61db7bc9",
   "metadata": {},
   "source": [
    "Each character in the string has its own position. It starts numbering from the left of 0. It is numbered from the right with negative numbers.\n",
    "* 0 - the first character\n",
    "* 1 - second character\n",
    "* -1 - the last character\n",
    "* -2 - penultimate character\n",
    "\n",
    "It is possible to print parts of strings determined by the start and end position. If a position is not specified, the start or end position is added."
   ]
  },
  {
   "cell_type": "code",
   "execution_count": null,
   "id": "010b5325-bd0d-4803-85fb-9397e0dfaf3f",
   "metadata": {
    "tags": []
   },
   "outputs": [],
   "source": [
    "# substrings\n",
    "a_string='abcdefghijklmnopqrstuvwxyz'\n",
    "print (a_string[3:11])\n",
    "print (a_string[3:-3])\n",
    "print (a_string[0:2])\n",
    "print (a_string[:18])\n",
    "print (a_string[20:])"
   ]
  },
  {
   "cell_type": "markdown",
   "id": "2f814455",
   "metadata": {},
   "source": [
    "# Mutable data types\n",
    "Unlike immutable types (int, str, tuple ...), mutable data types can be modified after creation.\n",
    "\n",
    "* list - an ordered collection of elements that can be of different types. Elements can be added, removed or changed.\n",
    "- set - a disordered collection of unique elements. Suitable for working with set operations (union, intersection).\n",
    "- dict - dictionary, key : value pair collection. Keys must be immutable (e.g. numbers, strings, tuples). Values may also be mutable.\n",
    "\n",
    "**For mutable data types, no copy of the data is made when assigning a value as for non-mutable types.** A pointer to the data structure is passed."
   ]
  },
  {
   "cell_type": "code",
   "execution_count": null,
   "id": "d0423752",
   "metadata": {},
   "outputs": [],
   "source": [
    "a=[1,2,3]\n",
    "b=a        # creating a copy of the reference, pointer\n",
    "b[2]=4     # and[2] will also be 4\n",
    "\n",
    "print (a)\n",
    "print (b)"
   ]
  },
  {
   "cell_type": "markdown",
   "id": "170fcafd-b71f-4ea0-91f2-4dcef9e2f9da",
   "metadata": {},
   "source": [
    "## List\n",
    "* A list of arbitrary variables, but it is advisable to use the same data type or for the values to have the same meaning.\n",
    "* Elements can be changed, added and removed over time.\n",
    "\n",
    "**For classic multidimensional arrays we will use the numpy library.** Numpy will be discussed later."
   ]
  },
  {
   "cell_type": "markdown",
   "id": "543f681e",
   "metadata": {},
   "source": [
    "### Create a list"
   ]
  },
  {
   "cell_type": "code",
   "execution_count": null,
   "id": "ac53172f",
   "metadata": {},
   "outputs": [],
   "source": [
    "value = 6\n",
    "a_list = ['c', 'd', 1, True]"
   ]
  },
  {
   "cell_type": "markdown",
   "id": "5592a243",
   "metadata": {},
   "source": [
    "### Access to elements\n",
    "* Indexed from 0\n",
    "* Indexing by negative numbers starts from the back"
   ]
  },
  {
   "cell_type": "code",
   "execution_count": null,
   "id": "8ee3187b",
   "metadata": {},
   "outputs": [],
   "source": [
    "print (a_list[0])     # the first element\n",
    "print (a_list[-1])    # the last element\n",
    "print (a_list[0:3])   # the first 3 elements\n",
    "print (a_list[0:6:2]) # every second element from index 0 to 5\n",
    "print (a_list[:])     # copy of the list\n",
    "print (a_list[::-1])  # reverse list\n",
    "\n",
    "a_list[2:4]='ab'      # assigning a value to a list slice\n",
    "print (a_list)"
   ]
  },
  {
   "cell_type": "markdown",
   "id": "f88d40a9",
   "metadata": {},
   "source": [
    "### Adding elements"
   ]
  },
  {
   "cell_type": "code",
   "execution_count": null,
   "id": "d2583bb5",
   "metadata": {},
   "outputs": [],
   "source": [
    "a_list.append(8)           # adds one element at the end\n",
    "a_list.append([3,4])       # adds the list as one element\n",
    "a_list.extend([3,4])       # adds all elements of the list\n",
    "a_list.insert(0, 6)        # inserts the element at index 0\n",
    "\n",
    "print (a_list)"
   ]
  },
  {
   "cell_type": "markdown",
   "id": "9bf5aea4",
   "metadata": {},
   "source": [
    "### Joining Lists"
   ]
  },
  {
   "cell_type": "code",
   "execution_count": null,
   "id": "c922ddb3",
   "metadata": {},
   "outputs": [],
   "source": [
    "a_list = a_list + [1, 2.0]\n",
    "print (a_list)"
   ]
  },
  {
   "cell_type": "markdown",
   "id": "6a01db16",
   "metadata": {},
   "source": [
    "### Removal of elements"
   ]
  },
  {
   "cell_type": "code",
   "execution_count": null,
   "id": "52fe2f68",
   "metadata": {},
   "outputs": [],
   "source": [
    "del a_list[1]           # according to the index\n",
    "print (a_list)\n",
    "a_list.remove(6)        # by value (first occurrence)\n",
    "print (a_list)\n",
    "print (a_list.pop())    # removes and returns the last element\n",
    "print (a_list.pop(1))   # removes the element at index 1 and returns it\n",
    "print (a_list)"
   ]
  },
  {
   "cell_type": "markdown",
   "id": "bec132d6",
   "metadata": {},
   "source": [
    "### List information"
   ]
  },
  {
   "cell_type": "code",
   "execution_count": null,
   "id": "460dad74",
   "metadata": {},
   "outputs": [],
   "source": [
    "print (len(a_list))             # list length\n",
    "print (a_list.count(1))         # number of occurrences values\n",
    "print (6 in a_list)             # True/False\n",
    "print (a_list.index('d'))       # element index, if not, raises an exception"
   ]
  },
  {
   "cell_type": "markdown",
   "id": "6c402c32",
   "metadata": {},
   "source": [
    "### Other operations"
   ]
  },
  {
   "cell_type": "code",
   "execution_count": null,
   "id": "1698e44b-74e0-42a3-bb05-40fac4284885",
   "metadata": {
    "tags": []
   },
   "outputs": [],
   "source": [
    "num_list = [56, 8, 0, -5]\n",
    "num_list.sort()                     # list ordering (elements must be of the same type)\n",
    "print (f'Sorted list {num_list}')\n",
    "\n",
    "head, *middle, tail = [1,2,3,4,5]   # list distribution\n",
    "print (f'Head {head}')\n",
    "print (f'Middle {middle}')\n",
    "print (f'Tail {tail}')"
   ]
  },
  {
   "cell_type": "markdown",
   "id": "57118dea",
   "metadata": {},
   "source": [
    "### Cycle through the list"
   ]
  },
  {
   "cell_type": "code",
   "execution_count": null,
   "id": "0ecd4a6b-efeb-46a8-906a-560a29222962",
   "metadata": {
    "tags": []
   },
   "outputs": [],
   "source": [
    "for value in a_list:\n",
    "    print (value)"
   ]
  },
  {
   "cell_type": "code",
   "execution_count": null,
   "id": "9b3aac35-ea35-4b8c-8de7-6ec1d7f87585",
   "metadata": {
    "tags": []
   },
   "outputs": [],
   "source": [
    "# Passing through the list with counter\n",
    "for index, value in enumerate(a_list):\n",
    "    print (f'index:{index}, value:{value}')"
   ]
  },
  {
   "cell_type": "markdown",
   "id": "8f011ead-afe2-4d54-9c3e-792ba18af078",
   "metadata": {},
   "source": [
    "### List comparison\n",
    "The comparison depends on the order. If the comparison is not supposed to be order-irrelevant, we have to sort the list before the comparison."
   ]
  },
  {
   "cell_type": "code",
   "execution_count": null,
   "id": "15e5b3f3-347f-400c-915e-0ba24e8471df",
   "metadata": {
    "tags": []
   },
   "outputs": [],
   "source": [
    "l1 = [10, 20, 30, 40, 50]\n",
    "l2 = [20, 30, 50, 40, 70]\n",
    "l3 = [50, 10, 30, 20, 40]\n",
    "\n",
    "if l1 == l2:\n",
    "    print (\"The lists l1 and l2 are the same\")\n",
    "else:\n",
    "    print (\"The lists l1 and l2 are not the same\")\n",
    "\n",
    "if l1 == l3:\n",
    "    print (\"The lists l1 and l3 are the same\")\n",
    "else:\n",
    "    print (\"The lists l1 and l3 are not the same\")\n"
   ]
  },
  {
   "cell_type": "code",
   "execution_count": null,
   "id": "6e7c672e-7a32-4d73-9a1f-c9c68582ef28",
   "metadata": {
    "tags": []
   },
   "outputs": [],
   "source": [
    "l1 = [10, 20, 30, 40, 50]\n",
    "l2 = [20, 30, 50, 40, 70]\n",
    "l3 = [50, 10, 30, 20, 40]\n",
    "\n",
    "l1_sorted = sorted(l1)\n",
    "l2_sorted = sorted(l2)\n",
    "l3_sorted = sorted(l3)\n",
    "\n",
    "if l1_sorted == l2_sorted:\n",
    "    print (\"The lists l1 and l2 are the same\")\n",
    "else:\n",
    "    print (\"The lists l1 and l2 are not the same\")\n",
    "\n",
    "if l1_sorted == l3_sorted:\n",
    "    print (\"The lists l1 and l3 are the same\")\n",
    "else:\n",
    "    print (\"The lists l1 and l3 are not the same\")"
   ]
  },
  {
   "cell_type": "markdown",
   "id": "1b6421f4-9fc1-4167-8bfa-e9200a3aa285",
   "metadata": {
    "tags": []
   },
   "source": [
    "### Copy of the list\n",
    "Since a list is a mutable data type, assigning it to a new variable does not create a copy of it, but only makes a new pointer."
   ]
  },
  {
   "cell_type": "code",
   "execution_count": null,
   "id": "a93a8684-0666-4e76-8d1f-5824573c4f0c",
   "metadata": {
    "tags": []
   },
   "outputs": [],
   "source": [
    "a=[1,2,3]\n",
    "b=a        \n",
    "b[2]=4     \n",
    "\n",
    "print (a)\n",
    "print (b)"
   ]
  },
  {
   "cell_type": "code",
   "execution_count": null,
   "id": "6b37c1e2-dff7-45e4-bb4b-c6340b662b6a",
   "metadata": {
    "tags": []
   },
   "outputs": [],
   "source": [
    "a=[1, 2]\n",
    "b=[a, a, a]   # b contains 3 pointers to a, if I change a, the change is reflected 3 times in b.\n",
    "print (b)"
   ]
  },
  {
   "cell_type": "markdown",
   "id": "cc727ea7",
   "metadata": {},
   "source": [
    "Sometimes it may be useful to make a copy of the data structure. The first copy option can be a bit strange."
   ]
  },
  {
   "cell_type": "code",
   "execution_count": null,
   "id": "fb6dffe7-d939-49a5-bab4-9d17d5d4345a",
   "metadata": {
    "tags": []
   },
   "outputs": [],
   "source": [
    "c=a[:]\n",
    "c[0]=0\n",
    "print (a)\n",
    "print (c)"
   ]
  },
  {
   "cell_type": "markdown",
   "id": "ed41ebd8",
   "metadata": {},
   "source": [
    "To create a copy of the list we can use the **copy** function."
   ]
  },
  {
   "cell_type": "code",
   "execution_count": null,
   "id": "10ebae3b-9555-4629-9562-51e8e698c756",
   "metadata": {
    "tags": []
   },
   "outputs": [],
   "source": [
    "a=[1, 2]\n",
    "b=a.copy()  \n",
    "b[0]=3\n",
    "print (a)\n",
    "print (b)"
   ]
  },
  {
   "cell_type": "markdown",
   "id": "c5f33015",
   "metadata": {},
   "source": [
    "Note that copy makes a copy only to the first level of the list."
   ]
  },
  {
   "cell_type": "code",
   "execution_count": null,
   "id": "5409e020-4747-4b9b-9ef4-c22f0f25d8b4",
   "metadata": {
    "tags": []
   },
   "outputs": [],
   "source": [
    "a=[[1,2], 3]\n",
    "b=a.copy()   \n",
    "b[0][0]=5\n",
    "print (a)\n",
    "print (b)"
   ]
  },
  {
   "cell_type": "markdown",
   "id": "ac7c1fac",
   "metadata": {},
   "source": [
    "If the structure is more complex we have to use **deepcopy**."
   ]
  },
  {
   "cell_type": "code",
   "execution_count": null,
   "id": "251b2e97-6be4-4e7f-a7de-9afa18082c46",
   "metadata": {
    "tags": []
   },
   "outputs": [],
   "source": [
    "import copy\n",
    "a=[[1,2], 3]\n",
    "b=copy.deepcopy(a)  \n",
    "b[0][0]=5\n",
    "print (a)\n",
    "print (b)"
   ]
  },
  {
   "cell_type": "markdown",
   "id": "3dec6348-a0a4-41cc-b9b1-5278e5cd9571",
   "metadata": {},
   "source": [
    "## Tuple\n",
    "\n",
    "* Similar to lists, but immutable - content cannot be changed after creation.\n",
    "* They are faster than lists, suitable for data that should not be changed."
   ]
  },
  {
   "cell_type": "markdown",
   "id": "022f2ee4",
   "metadata": {},
   "source": [
    "### Creating"
   ]
  },
  {
   "cell_type": "code",
   "execution_count": null,
   "id": "cd3a2d8a",
   "metadata": {},
   "outputs": [],
   "source": [
    "t1 = (1, 2, 3)\n",
    "t2 = ('a', 'b', 'c')\n",
    "t3 = ()          # empty tuple\n",
    "t4 = (1,)        # tuple with one element, watch out for the comma"
   ]
  },
  {
   "cell_type": "markdown",
   "id": "5763375a",
   "metadata": {},
   "source": [
    "### Logical\n",
    "* Empty tuple is False\n",
    "* A tuple with at least one element is True"
   ]
  },
  {
   "cell_type": "code",
   "execution_count": null,
   "id": "28e49f90",
   "metadata": {},
   "outputs": [],
   "source": [
    "print (bool(()))\n",
    "print (bool((1,)))"
   ]
  },
  {
   "cell_type": "markdown",
   "id": "8e741445",
   "metadata": {},
   "source": [
    "### Access to elements"
   ]
  },
  {
   "cell_type": "code",
   "execution_count": null,
   "id": "9849049d",
   "metadata": {},
   "outputs": [],
   "source": [
    "t1[0]       # the first element\n",
    "t1[-1]      # the last element\n",
    "t1[0:2]     # slice of the first two elements\n",
    "(x,y,z)=t1  # assigning tuple elements to variables, this can be used for functions that return multiple values\n",
    "print (z)"
   ]
  },
  {
   "cell_type": "markdown",
   "id": "a33b4246",
   "metadata": {},
   "source": [
    "### Joining"
   ]
  },
  {
   "cell_type": "code",
   "execution_count": null,
   "id": "a69fb198",
   "metadata": {},
   "outputs": [],
   "source": [
    "t1 + t2"
   ]
  },
  {
   "cell_type": "markdown",
   "id": "08773991",
   "metadata": {},
   "source": [
    "### Repetition of elements"
   ]
  },
  {
   "cell_type": "code",
   "execution_count": null,
   "id": "d5cf9d0e",
   "metadata": {},
   "outputs": [],
   "source": [
    "t2 * 3"
   ]
  },
  {
   "cell_type": "markdown",
   "id": "737978ef",
   "metadata": {},
   "source": [
    "### Conversion of tuple and list"
   ]
  },
  {
   "cell_type": "code",
   "execution_count": null,
   "id": "3b82a183",
   "metadata": {},
   "outputs": [],
   "source": [
    "a_list= list (t1)                 # creating a list from a tuple          \n",
    "a_tuple= tuple (a_list)           # creating a tuple from the list\n"
   ]
  },
  {
   "cell_type": "markdown",
   "id": "36cb6e06",
   "metadata": {},
   "source": [
    "### Testing"
   ]
  },
  {
   "cell_type": "code",
   "execution_count": null,
   "id": "e5f71fac",
   "metadata": {},
   "outputs": [],
   "source": [
    "print (1 in t1)                      # test if the tuple contains the value\n",
    "print (t1==t2)                       # tests whether the elements of the tuple are successively equal\n",
    "print (t1 < t4)                      # the validity of the element-by-element comparison is gradually tested"
   ]
  },
  {
   "cell_type": "markdown",
   "id": "7fbcf5b2",
   "metadata": {},
   "source": [
    "### Search"
   ]
  },
  {
   "cell_type": "code",
   "execution_count": null,
   "id": "0fc9c815",
   "metadata": {},
   "outputs": [],
   "source": [
    "print (a_tuple.count(2))                       # how many times the value occurs in the tuple\n",
    "print (a_tuple.index(3))                       # index where the value is located. If there are multiple occurrences, the first occurrence is returned\n",
    "print (len(a_tuple))                           # length of the tuple\n",
    "print (sum(a_tuple))                           # sum of values\n",
    "print (min(a_tuple))\n",
    "print (max(a_tuple))"
   ]
  },
  {
   "cell_type": "markdown",
   "id": "1809c026",
   "metadata": {},
   "source": [
    "### Change of value\n",
    "Beware tupple is an immutable type. This will result in an error."
   ]
  },
  {
   "cell_type": "code",
   "execution_count": null,
   "id": "65b14f81-b75a-45e0-80cc-72ea0a752dca",
   "metadata": {
    "tags": []
   },
   "outputs": [],
   "source": [
    "x = (1, 2)\n",
    "x[0] = 3"
   ]
  },
  {
   "cell_type": "markdown",
   "id": "7af032cf-2a8f-4485-b8d1-3e335b9e1d4e",
   "metadata": {},
   "source": [
    "## Set\n",
    "\n",
    "* A disordered collection of unique values - each element can occur only once.\n",
    "* Suitable for operations such as intersection, union, difference."
   ]
  },
  {
   "cell_type": "markdown",
   "id": "8aff30ce",
   "metadata": {},
   "source": [
    "### Creating"
   ]
  },
  {
   "cell_type": "code",
   "execution_count": null,
   "id": "f5c3f233",
   "metadata": {},
   "outputs": [],
   "source": [
    "s = {1, 2, 3, 4}\n",
    "s2 = set([3, 4, 5, 6])   # conversion from the list\n",
    "empty_set = set() \n",
    "print (s) \n",
    "print (s2)"
   ]
  },
  {
   "cell_type": "markdown",
   "id": "19506100",
   "metadata": {},
   "source": [
    "### Adding and removing elements"
   ]
  },
  {
   "cell_type": "code",
   "execution_count": null,
   "id": "3cac5d35",
   "metadata": {},
   "outputs": [],
   "source": [
    "s.add(5)                # adds an element\n",
    "s.update ({3, 4, 5})    # adding multiple values to a set, can be specified as a set or as a list\n",
    "s.update ([3, 4, 5])    # adding multiple values to a set, can be specified as a set or as a list, it doesn't matter\n",
    "s.remove(2)             # removes the item if it does not exist -> raises an error\n",
    "s.discard(10)           # removes the element if it exists, otherwise nothing\n",
    "s.pop()                 # takes one value at random and returns it\n",
    "print (s)"
   ]
  },
  {
   "cell_type": "markdown",
   "id": "23871291",
   "metadata": {},
   "source": [
    "### Operations with sets"
   ]
  },
  {
   "cell_type": "code",
   "execution_count": null,
   "id": "c2ced0a9",
   "metadata": {},
   "outputs": [],
   "source": [
    "print (f\"Union {s.union(s2)}\")                                  \n",
    "print (f\"Intersecion {s.intersection(s2)}\")                     \n",
    "print (f\"Difference {s.difference(s2)}\")                        # difference (elements in s that are not in s2)\n",
    "print (f\"Symetric difference {s.symmetric_difference(s2)}\")     # elements that are in one or the other set, but not in both\n",
    "print (f\"subset {s.issubset(s2)}\")\n",
    "print (f\"upperset {s.issuperset(s2)}\")\n",
    "print (f\"Lengh of s {len(s)}\")"
   ]
  },
  {
   "cell_type": "markdown",
   "id": "7a07f1d9",
   "metadata": {},
   "source": [
    "### Coping set\n",
    "As with a list, copying a set cannot be done by assignment, but by **copy**."
   ]
  },
  {
   "cell_type": "code",
   "execution_count": null,
   "id": "b661b3df",
   "metadata": {},
   "outputs": [],
   "source": [
    "s3 = s \n",
    "s.add(10)\n",
    "print (s)\n",
    "print (s3)"
   ]
  },
  {
   "cell_type": "code",
   "execution_count": null,
   "id": "89d2e728-1cb5-4e53-b922-b705b3f505cf",
   "metadata": {
    "tags": []
   },
   "outputs": [],
   "source": [
    "s4 = s.copy()\n",
    "s.add(11)\n",
    "print (s)\n",
    "print (s4)"
   ]
  },
  {
   "cell_type": "markdown",
   "id": "ac8fd1c8",
   "metadata": {},
   "source": [
    "### Compare\n",
    "No matter the order."
   ]
  },
  {
   "cell_type": "code",
   "execution_count": null,
   "id": "8f19b927-c822-4b85-8757-a4eb5973ccb2",
   "metadata": {
    "tags": []
   },
   "outputs": [],
   "source": [
    "a = {1, 2}\n",
    "b = {2, 1}\n",
    "a==b"
   ]
  },
  {
   "cell_type": "markdown",
   "id": "a771b0ea-421d-4ac2-a612-f2a52226a287",
   "metadata": {},
   "source": [
    "## Dictionary\n",
    "* The dictionary is a collection of key : value pairs\n",
    "* Keys must be unique and immutable (e.g. numbers, strings, tuples).\n",
    "* Values can be of any type, including lists and other dictionaries."
   ]
  },
  {
   "cell_type": "markdown",
   "id": "1329d60a",
   "metadata": {},
   "source": [
    "### Creating"
   ]
  },
  {
   "cell_type": "code",
   "execution_count": null,
   "id": "fb0598e4",
   "metadata": {},
   "outputs": [],
   "source": [
    "a_dict = {'key1':'value', 'key2':'value'}\n",
    "a_dict['key3'] = \"value2\"\n",
    "c_dict = dict([(\"key99\", \"value99\")])\n",
    "print (a_dict)"
   ]
  },
  {
   "cell_type": "markdown",
   "id": "732fec1c",
   "metadata": {},
   "source": [
    "### Access and check"
   ]
  },
  {
   "cell_type": "code",
   "execution_count": null,
   "id": "7b936aa3",
   "metadata": {},
   "outputs": [],
   "source": [
    "key = 'key2'\n",
    "value = 'value'\n",
    "\n",
    "if key in a_dict.keys():       # key existence check\n",
    "    print(key, a_dict[key])"
   ]
  },
  {
   "cell_type": "markdown",
   "id": "f11b3c55",
   "metadata": {},
   "source": [
    "### Coping dictionary"
   ]
  },
  {
   "cell_type": "code",
   "execution_count": null,
   "id": "813bb8fa",
   "metadata": {},
   "outputs": [],
   "source": [
    "b_dict= a_dict.copy()\n",
    "a_dict[\"key1\"]=\"VALUE\"\n",
    "print (a_dict)\n",
    "print (b_dict)"
   ]
  },
  {
   "cell_type": "markdown",
   "id": "700d3bf2",
   "metadata": {},
   "source": [
    "### Basic operations"
   ]
  },
  {
   "cell_type": "code",
   "execution_count": null,
   "id": "55a8f790",
   "metadata": {},
   "outputs": [],
   "source": [
    "print (len(a_dict))             # number of keys\n",
    "print (a_dict.items())          # list of pairs key : value"
   ]
  },
  {
   "cell_type": "markdown",
   "id": "4c7040a2",
   "metadata": {},
   "source": [
    "### Iteration via dictionary"
   ]
  },
  {
   "cell_type": "code",
   "execution_count": null,
   "id": "d5e64eaa",
   "metadata": {},
   "outputs": [],
   "source": [
    "for key in sorted(a_dict.keys()):\n",
    "    print(key)"
   ]
  },
  {
   "cell_type": "code",
   "execution_count": null,
   "id": "553b4af7",
   "metadata": {},
   "outputs": [],
   "source": [
    "for value in a_dict.values():\n",
    "    print(value)      "
   ]
  },
  {
   "cell_type": "code",
   "execution_count": null,
   "id": "e8ff09bd",
   "metadata": {},
   "outputs": [],
   "source": [
    "for key, value in a_dict.items():\n",
    "    print(key, value)  "
   ]
  },
  {
   "cell_type": "markdown",
   "id": "b064374a",
   "metadata": {},
   "source": [
    "### Conversion between dictionary and lists"
   ]
  },
  {
   "cell_type": "code",
   "execution_count": null,
   "id": "cc586a34",
   "metadata": {},
   "outputs": [],
   "source": [
    "v = list(a_dict.values())  # list of values\n",
    "k = list(a_dict.keys())    # list of keys\n",
    "n = list(a_dict.items())   # list of tuples (key, value)\n",
    "d=dict([(\"key\",\"value\"), (\"key2\",\"value2\")] ) # list to dictionary conversion"
   ]
  },
  {
   "cell_type": "markdown",
   "id": "d5559c3e-a920-46e8-a0fb-83a59a6b996f",
   "metadata": {},
   "source": [
    "# Binding objects and names\n",
    "* An object can have one or more names (variables) that refer to it.\n",
    "* The name does not indicate the memory location - it is just a reference to the object.\n",
    "* Any object can be assigned to the variable and the type of the assigned object can be changed later."
   ]
  },
  {
   "cell_type": "code",
   "execution_count": null,
   "id": "1e885399-37ae-4242-9f21-8191080fc5a2",
   "metadata": {
    "tags": []
   },
   "outputs": [],
   "source": [
    "x=10\n",
    "x='python'\n",
    "print (x)"
   ]
  },
  {
   "cell_type": "markdown",
   "id": "97085b4c",
   "metadata": {},
   "source": [
    "* There are no explicit type declarations in Python until version 3.5.\n",
    "* Since Python 3.5, you can use type hints (optional) to help with additional checks and code readability.\n",
    "* Type hints do not block the assignment of another type, they are just for checking (e.g. in the IDE or linter)."
   ]
  },
  {
   "cell_type": "code",
   "execution_count": null,
   "id": "7b91687b",
   "metadata": {},
   "outputs": [],
   "source": [
    "def greetings(name: str) -> str:\n",
    "    return f\"Hello, {name}!\""
   ]
  },
  {
   "cell_type": "markdown",
   "id": "2c75b124-f4c1-4b3a-90fe-43da26ab32d5",
   "metadata": {},
   "source": [
    "# Deleting a variable\n",
    "Deleting a variable removes the binding between the name and the object, not the object itself."
   ]
  },
  {
   "cell_type": "code",
   "execution_count": null,
   "id": "416fe08d",
   "metadata": {},
   "outputs": [],
   "source": [
    "x = 10\n",
    "del x   # x no longer exists"
   ]
  },
  {
   "cell_type": "markdown",
   "id": "ffd9894d",
   "metadata": {},
   "source": [
    "If an object has no references (no names point to it), the garbage collector automatically removes it and frees memory.\n",
    "\n",
    "Python manages memory automatically, so there is no need to explicitly free objects."
   ]
  },
  {
   "cell_type": "code",
   "execution_count": null,
   "id": "aae36966-90ea-4df7-a762-4cc0b4794de7",
   "metadata": {
    "tags": []
   },
   "outputs": [],
   "source": [
    "y = [1, 2, 3]\n",
    "z = y        # there are now two links to the list\n",
    "del y        # the reference from the z variable remains, the object is not deleted\n",
    "del z        # no links → garbage collector frees memory"
   ]
  },
  {
   "cell_type": "markdown",
   "id": "1b7ae7a9",
   "metadata": {},
   "source": [
    "# Exercise 1\n",
    "Write a program that:\n",
    "* It will ask the user for their name.\n",
    "* Prints the number of characters in the name.\n",
    "* Write out the first and last letters of the name.\n",
    "* Writes the name in uppercase and lowercase letters."
   ]
  },
  {
   "cell_type": "code",
   "execution_count": null,
   "id": "e3be987d",
   "metadata": {},
   "outputs": [],
   "source": [
    "name = input(\"Enter your name: \")"
   ]
  },
  {
   "cell_type": "markdown",
   "id": "62e265e9",
   "metadata": {},
   "source": [
    "# Exercise 2\n",
    "* Create a list of numbers [1, 2, 3, 4, 5].\n",
    "* Add number 6 to the end of the list.\n",
    "* Remove number 3 from the list.\n",
    "* Write the list backwards.\n",
    "* Counts how many times the number 2 occurs in the list."
   ]
  },
  {
   "cell_type": "code",
   "execution_count": null,
   "id": "a732b675",
   "metadata": {},
   "outputs": [],
   "source": [
    "#"
   ]
  },
  {
   "cell_type": "markdown",
   "id": "8bfcc837",
   "metadata": {},
   "source": [
    "# Exercise 3\n",
    "* Create a dictionary with names and ages, e.g. {'John': 20, 'Eva': 22, 'Peter': 19}.\n",
    "* Add new member 'Anna': 25.\n",
    "* Remove member 'Peter'.\n",
    "* List all keys, all values, and all key:value pairs.\n",
    "* See if the key 'Eve' exists in the dictionary and print her age."
   ]
  },
  {
   "cell_type": "code",
   "execution_count": null,
   "id": "9f09e7be",
   "metadata": {},
   "outputs": [],
   "source": [
    "#"
   ]
  },
  {
   "cell_type": "markdown",
   "id": "14b21e54",
   "metadata": {},
   "source": [
    "# Exercise 4\n",
    "Write a program that:\n",
    "* Creates a set a = {1, 2, 3, 4} a b = {3, 4, 5, 6}.\n",
    "* Calculate and write the union, intersection and difference of the sets a - b.\n",
    "* Adds the number 7 to the set a.\n",
    "* Removes the number 2 from the set a."
   ]
  }
 ],
 "metadata": {
  "kernelspec": {
   "display_name": ".venv",
   "language": "python",
   "name": "python3"
  },
  "language_info": {
   "codemirror_mode": {
    "name": "ipython",
    "version": 3
   },
   "file_extension": ".py",
   "mimetype": "text/x-python",
   "name": "python",
   "nbconvert_exporter": "python",
   "pygments_lexer": "ipython3",
   "version": "3.9.13"
  }
 },
 "nbformat": 4,
 "nbformat_minor": 5
}
