{
 "cells": [
  {
   "cell_type": "markdown",
   "id": "d0f8e334-c811-41aa-80cc-cc82fe8e7fe2",
   "metadata": {},
   "source": [
    "# Simple puzzle\n",
    "\n",
    "In this exercise, we will create a State class to represent the state of the simple puzzle presented in the lecture.\n",
    "\n",
    "1. The class will have the ability to preserve the state of the puzzle\n",
    "2. The class will include a method for comparing states\n",
    "3. The class will implement an expand method that will generate a new state based on an input action"
   ]
  },
  {
   "attachments": {
    "4b10f1e5-7e52-457a-b5bf-28096ad2a73c.png": {
     "image/png": "[encoded data removed]"
    }
   },
   "cell_type": "markdown",
   "id": "93a6ddf7-da73-4ef3-9992-3faa6166285f",
   "metadata": {},
   "source": [
    "![obrazek.png](attachment:4b10f1e5-7e52-457a-b5bf-28096ad2a73c.png)"
   ]
  },
  {
   "cell_type": "markdown",
   "id": "dd51261d",
   "metadata": {},
   "source": [
    "The library allows copying of complex structures"
   ]
  },
  {
   "cell_type": "code",
   "execution_count": null,
   "id": "26844aec-b4cf-4d3d-bb19-20083be4a451",
   "metadata": {
    "tags": []
   },
   "outputs": [],
   "source": [
    "import copy"
   ]
  },
  {
   "cell_type": "code",
   "execution_count": null,
   "id": "5f426975-5cc8-422d-aef1-9ac055bf5362",
   "metadata": {
    "tags": []
   },
   "outputs": [],
   "source": [
    "class State:\n",
    "    \"\"\" Puzzle state\n",
    "    \n",
    "    gameplan - two-dimensional array\n",
    "             - 0 - blue\n",
    "             - 1 - red\n",
    "             - 2 - space\n",
    "    row      - row position of the space, for faster searching\n",
    "    column -  column position of the space\n",
    "    \"\"\"\n",
    "\n",
    "    # Generated will contain the number of instances created \n",
    "    generated = 0\n",
    "    \n",
    "    def __init__(self, gameplan, row, column):\n",
    "        # Class constructor\n",
    "        # check if the position of the space is correctly entered        \n",
    "        assert (gameplan[row][column] == 0)\n",
    "                \n",
    "        # assignining variables with input parameters\n",
    "        self.gameplan = []\n",
    "        self.gameplan = gameplan\n",
    "        self.row = row\n",
    "        self.column = column\n",
    "\n",
    "        State.generated += 1\n",
    "        \n",
    "    def __eq__(self, other):\n",
    "        # comparison operator overload, only the gameplan needs to be compared\n",
    "        return self.gameplan == other.gameplan        \n",
    "        \n",
    "    def expand(self, action):\n",
    "        \"\"\" The method returns the new state of the puzzle according to the specified action\n",
    "        \n",
    "            If the action is invalid for the puzzle state, None is returned\n",
    "\n",
    "            action - move l, r, u, d\n",
    "        \"\"\"\n",
    "        \n",
    "        if action == 'l':\n",
    "            # check if the movement is valid\n",
    "            if self.column > 0:\n",
    "                # depth copy of the puzzle state\n",
    "                new_gameplan = copy.deepcopy(self.gameplan)\n",
    "\n",
    "                # stone replacement in new condition\n",
    "                new_gameplan[self.row][self.column] = new_gameplan[self.row][self.column - 1]                \n",
    "                new_gameplan[self.row][self.column - 1] = 0\n",
    "\n",
    "                # create new object State\n",
    "                return State(new_gameplan, self.row, self.column - 1)\n",
    "        if action == 'r':\n",
    "            if (self.row == 0 and self.column < 2) or (self.row == 1 and self.column < 1):\n",
    "                new_gameplan = copy.deepcopy(self.gameplan)\n",
    "                new_gameplan[self.row][self.column] = new_gameplan[self.row][self.column + 1]\n",
    "                new_gameplan[self.row][self.column + 1] = 0\n",
    "                return State(new_gameplan, self.row, self.column + 1)\n",
    "        if action == 'u':\n",
    "            if self.row > 0 and self.column < 2:\n",
    "                new_gameplan = copy.deepcopy(self.gameplan)\n",
    "                new_gameplan[self.row][self.column] = new_gameplan[self.row - 1][self.column]\n",
    "                new_gameplan[self.row - 1][self.column] = 0\n",
    "                return State(new_gameplan, self.row - 1, self.column)\n",
    "        if action == 'd':\n",
    "            if self.row < 1 and self.column < 2:\n",
    "                new_gameplan = copy.deepcopy(self.gameplan)\n",
    "                new_gameplan[self.row][self.column] = new_gameplan[self.row + 1][self.column]\n",
    "                new_gameplan[self.row + 1][self.column] = 0\n",
    "                return State(new_gameplan, self.row + 1, self.column)\n",
    "        else:\n",
    "            return None"
   ]
  },
  {
   "cell_type": "markdown",
   "id": "716250c9",
   "metadata": {},
   "source": [
    "List of possible actions"
   ]
  },
  {
   "cell_type": "code",
   "execution_count": null,
   "id": "a506327b-0571-4ed1-bf33-f3208736ab94",
   "metadata": {
    "tags": []
   },
   "outputs": [],
   "source": [
    "actions=['l', 'r', 'u', 'd']"
   ]
  },
  {
   "cell_type": "markdown",
   "id": "7572ff6d",
   "metadata": {},
   "source": [
    "Creating an initial state"
   ]
  },
  {
   "cell_type": "code",
   "execution_count": null,
   "id": "1a589ca9-291f-4680-ac84-0c7dda98b0e7",
   "metadata": {
    "tags": []
   },
   "outputs": [],
   "source": [
    "state1 = State(gameplan=[[1, 0, 2], [2, 1]], row=0, column=1)"
   ]
  },
  {
   "cell_type": "markdown",
   "id": "0457763a",
   "metadata": {},
   "source": [
    "Tests whether state changes are implemented correctly.\n",
    "\n",
    "The assert function is used to raise an exception when the method returns a different result than expected."
   ]
  },
  {
   "cell_type": "code",
   "execution_count": null,
   "id": "5eb373ac-e2d4-4593-a9fe-3484b289b406",
   "metadata": {
    "tags": []
   },
   "outputs": [],
   "source": [
    "# Action check left\n",
    "state_left = state1.expand('l')\n",
    "assert (state_left.gameplan == [[0, 1, 2], [2, 1]])\n",
    "print (state_left.gameplan)"
   ]
  },
  {
   "cell_type": "code",
   "execution_count": null,
   "id": "3c28cb00-21fb-46f9-865f-eaa8c7c17d88",
   "metadata": {
    "tags": []
   },
   "outputs": [],
   "source": [
    "# Action check right\n",
    "state_right = state1.expand('r')\n",
    "assert (state_right.gameplan == [[1, 2, 0], [2, 1]])\n",
    "print (state_right.gameplan)"
   ]
  },
  {
   "cell_type": "code",
   "execution_count": null,
   "id": "7adcca00",
   "metadata": {},
   "outputs": [],
   "source": [
    "# Action check down\n",
    "state_down = state1.expand('d')\n",
    "assert (state_down.gameplan == [[1, 1, 2], [2, 0]])\n",
    "print (state_down.gameplan)"
   ]
  },
  {
   "cell_type": "code",
   "execution_count": null,
   "id": "6bdf5025",
   "metadata": {},
   "outputs": [],
   "source": [
    "# Action check up, not allowed\n",
    "state_up = state1.expand('u')\n",
    "assert (state_up is None)"
   ]
  },
  {
   "cell_type": "markdown",
   "id": "e38dfaeb",
   "metadata": {},
   "source": [
    "Display the number of generated states"
   ]
  },
  {
   "cell_type": "code",
   "execution_count": null,
   "id": "1bb664b7",
   "metadata": {},
   "outputs": [],
   "source": [
    "print (state1.generated)"
   ]
  }
 ],
 "metadata": {
  "kernelspec": {
   "display_name": ".venv",
   "language": "python",
   "name": "python3"
  },
  "language_info": {
   "codemirror_mode": {
    "name": "ipython",
    "version": 3
   },
   "file_extension": ".py",
   "mimetype": "text/x-python",
   "name": "python",
   "nbconvert_exporter": "python",
   "pygments_lexer": "ipython3",
   "version": "3.9.13"
  }
 },
 "nbformat": 4,
 "nbformat_minor": 5
}
